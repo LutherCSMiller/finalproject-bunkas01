{
 "cells": [
  {
   "cell_type": "code",
   "execution_count": 6,
   "metadata": {
    "collapsed": false
   },
   "outputs": [],
   "source": [
    "import networkx\n",
    "import json\n",
    "import requests\n",
    "import pandas as pd\n",
    "import numpy as np"
   ]
  },
  {
   "cell_type": "code",
   "execution_count": 11,
   "metadata": {
    "collapsed": false
   },
   "outputs": [],
   "source": [
    "pd.options.display.max_columns = 999"
   ]
  },
  {
   "cell_type": "markdown",
   "metadata": {},
   "source": [
    "### Adjective: Adjective Trade Route Analysis\n",
    "\n",
    "For the project, I'm going to be looking at optimizing trade routes in Elite: Dangerous, using the datasets from EDDB for galactic commodity prices, general commodity data, stations, and populated systems. This data will be used to calculate optimal trade routes from a given system, which will be displayed in an undirected graph. This graph will highlight trade routes when systems are hovered over (Or at least that's my goal)."
   ]
  },
  {
   "cell_type": "code",
   "execution_count": 13,
   "metadata": {
    "collapsed": true
   },
   "outputs": [],
   "source": [
    "system_req = requests.get('https://eddb.io/archive/v5/systems_populated.json')\n",
    "system_resp = json.loads(sys_req.text)\n",
    "system_data = pd.DataFrame(sys_resp)"
   ]
  },
  {
   "cell_type": "code",
   "execution_count": 19,
   "metadata": {
    "collapsed": false
   },
   "outputs": [],
   "source": [
    "station_req = requests.get('https://eddb.io/archive/v5/stations.json')\n",
    "station_resp = json.loads(station_req.text)\n",
    "station_data = pd.DataFrame(station_resp)"
   ]
  },
  {
   "cell_type": "code",
   "execution_count": 28,
   "metadata": {
    "collapsed": true
   },
   "outputs": [],
   "source": [
    "commodity_req = requests.get('https://eddb.io/archive/v5/commodities.json')\n",
    "commodity_resp = json.loads(commodity_req.text)\n",
    "commodity_data = pd.DataFrame(commodity_resp)"
   ]
  },
  {
   "cell_type": "code",
   "execution_count": 31,
   "metadata": {
    "collapsed": true
   },
   "outputs": [],
   "source": [
    "def extract_category_name(category_dict):\n",
    "    category_name = category_dict['name']\n",
    "    return category_name\n",
    "\n",
    "def extract_category_wrapper(a_row):\n",
    "    return extract_category_name(a_row.category)\n",
    "\n",
    "temp_com_data = commodity_data\n",
    "temp_com_data['category'] = temp_com_data.apply(extract_category_wrapper, axis=1)\n",
    "commodity_data = temp_com_data\n",
    "commodity_data.rename(columns={'id': 'commodity_id'}, inplace=True)"
   ]
  },
  {
   "cell_type": "code",
   "execution_count": 24,
   "metadata": {
    "collapsed": true
   },
   "outputs": [],
   "source": [
    "price_req = requests.get('https://eddb.io/archive/v5/listings.csv')\n",
    "price_row_list = price_req.text.split('\\n')\n",
    "price_headings = price_row_list[0]\n",
    "price_row_list = price_row_list[1:]\n",
    "price_headings = price_headings.split(\",\")\n",
    "for index in range(len(price_row_list)):\n",
    "    entry_str = price_row_list[index]\n",
    "    new_entry = entry_str.split(\",\")\n",
    "    price_row_list[index] = new_entry\n",
    "x = len(price_headings)\n",
    "problem_indices = []\n",
    "for entry in price_row_list:\n",
    "    if len(entry) != x:\n",
    "        index = price_row_list.index(entry)\n",
    "        problem_indices.append(index)\n",
    "        \n",
    "for index in problem_indices:\n",
    "    del price_row_list[index]\n",
    "    prices = {}\n",
    "for index in range(len(price_headings)):\n",
    "    key = price_headings[index]\n",
    "    value = []\n",
    "    for entry in price_row_list:\n",
    "        value.append(int(entry[index]))\n",
    "    prices[key] = value\n",
    "    \n",
    "price_data = pd.DataFrame(prices)"
   ]
  },
  {
   "cell_type": "markdown",
   "metadata": {},
   "source": [
    "This next segment is just some quick testing of the data itself, seeing what's included, how I can cross-reference between datasets, etc."
   ]
  },
  {
   "cell_type": "code",
   "execution_count": 21,
   "metadata": {
    "collapsed": false
   },
   "outputs": [
    {
     "data": {
      "text/html": [
       "<div>\n",
       "<table border=\"1\" class=\"dataframe\">\n",
       "  <thead>\n",
       "    <tr style=\"text-align: right;\">\n",
       "      <th></th>\n",
       "      <th>allegiance</th>\n",
       "      <th>allegiance_id</th>\n",
       "      <th>body_id</th>\n",
       "      <th>controlling_minor_faction_id</th>\n",
       "      <th>distance_to_star</th>\n",
       "      <th>economies</th>\n",
       "      <th>export_commodities</th>\n",
       "      <th>government</th>\n",
       "      <th>government_id</th>\n",
       "      <th>has_blackmarket</th>\n",
       "      <th>has_commodities</th>\n",
       "      <th>has_docking</th>\n",
       "      <th>has_market</th>\n",
       "      <th>has_outfitting</th>\n",
       "      <th>has_rearm</th>\n",
       "      <th>has_refuel</th>\n",
       "      <th>has_repair</th>\n",
       "      <th>has_shipyard</th>\n",
       "      <th>id</th>\n",
       "      <th>import_commodities</th>\n",
       "      <th>is_planetary</th>\n",
       "      <th>market_updated_at</th>\n",
       "      <th>max_landing_pad_size</th>\n",
       "      <th>name</th>\n",
       "      <th>outfitting_updated_at</th>\n",
       "      <th>prohibited_commodities</th>\n",
       "      <th>selling_modules</th>\n",
       "      <th>selling_ships</th>\n",
       "      <th>settlement_security</th>\n",
       "      <th>settlement_security_id</th>\n",
       "      <th>settlement_size</th>\n",
       "      <th>settlement_size_id</th>\n",
       "      <th>shipyard_updated_at</th>\n",
       "      <th>state</th>\n",
       "      <th>state_id</th>\n",
       "      <th>system_id</th>\n",
       "      <th>type</th>\n",
       "      <th>type_id</th>\n",
       "      <th>updated_at</th>\n",
       "    </tr>\n",
       "  </thead>\n",
       "  <tbody>\n",
       "    <tr>\n",
       "      <th>0</th>\n",
       "      <td>Federation</td>\n",
       "      <td>3.0</td>\n",
       "      <td>NaN</td>\n",
       "      <td>13925.0</td>\n",
       "      <td>171.0</td>\n",
       "      <td>[Agriculture]</td>\n",
       "      <td>[Mineral Oil, Fruit and Vegetables, Grain]</td>\n",
       "      <td>Corporate</td>\n",
       "      <td>64.0</td>\n",
       "      <td>False</td>\n",
       "      <td>True</td>\n",
       "      <td>True</td>\n",
       "      <td>True</td>\n",
       "      <td>True</td>\n",
       "      <td>True</td>\n",
       "      <td>True</td>\n",
       "      <td>True</td>\n",
       "      <td>True</td>\n",
       "      <td>5</td>\n",
       "      <td>[Pesticides, Aquaponic Systems, Biowaste]</td>\n",
       "      <td>False</td>\n",
       "      <td>1.480872e+09</td>\n",
       "      <td>L</td>\n",
       "      <td>Reilly Hub</td>\n",
       "      <td>1.480872e+09</td>\n",
       "      <td>[Narcotics, Tobacco, Combat Stabilisers, Imper...</td>\n",
       "      <td>[738, 739, 740, 743, 744, 745, 748, 749, 750, ...</td>\n",
       "      <td>[Adder, Eagle Mk. II, Hauler, Sidewinder Mk. I...</td>\n",
       "      <td>None</td>\n",
       "      <td>NaN</td>\n",
       "      <td>None</td>\n",
       "      <td>NaN</td>\n",
       "      <td>1.480872e+09</td>\n",
       "      <td>None</td>\n",
       "      <td>80.0</td>\n",
       "      <td>396</td>\n",
       "      <td>Orbis Starport</td>\n",
       "      <td>8.0</td>\n",
       "      <td>1479385274</td>\n",
       "    </tr>\n",
       "  </tbody>\n",
       "</table>\n",
       "</div>"
      ],
      "text/plain": [
       "   allegiance  allegiance_id  body_id  controlling_minor_faction_id  \\\n",
       "0  Federation            3.0      NaN                       13925.0   \n",
       "\n",
       "   distance_to_star      economies  \\\n",
       "0             171.0  [Agriculture]   \n",
       "\n",
       "                           export_commodities government  government_id  \\\n",
       "0  [Mineral Oil, Fruit and Vegetables, Grain]  Corporate           64.0   \n",
       "\n",
       "  has_blackmarket has_commodities has_docking has_market has_outfitting  \\\n",
       "0           False            True        True       True           True   \n",
       "\n",
       "  has_rearm has_refuel has_repair has_shipyard  id  \\\n",
       "0      True       True       True         True   5   \n",
       "\n",
       "                          import_commodities is_planetary  market_updated_at  \\\n",
       "0  [Pesticides, Aquaponic Systems, Biowaste]        False       1.480872e+09   \n",
       "\n",
       "  max_landing_pad_size        name  outfitting_updated_at  \\\n",
       "0                    L  Reilly Hub           1.480872e+09   \n",
       "\n",
       "                              prohibited_commodities  \\\n",
       "0  [Narcotics, Tobacco, Combat Stabilisers, Imper...   \n",
       "\n",
       "                                     selling_modules  \\\n",
       "0  [738, 739, 740, 743, 744, 745, 748, 749, 750, ...   \n",
       "\n",
       "                                       selling_ships settlement_security  \\\n",
       "0  [Adder, Eagle Mk. II, Hauler, Sidewinder Mk. I...                None   \n",
       "\n",
       "   settlement_security_id settlement_size  settlement_size_id  \\\n",
       "0                     NaN            None                 NaN   \n",
       "\n",
       "   shipyard_updated_at state  state_id  system_id            type  type_id  \\\n",
       "0         1.480872e+09  None      80.0        396  Orbis Starport      8.0   \n",
       "\n",
       "   updated_at  \n",
       "0  1479385274  "
      ]
     },
     "execution_count": 21,
     "metadata": {},
     "output_type": "execute_result"
    }
   ],
   "source": [
    "station_data.head(1)"
   ]
  },
  {
   "cell_type": "code",
   "execution_count": 22,
   "metadata": {
    "collapsed": false
   },
   "outputs": [
    {
     "data": {
      "text/html": [
       "<div>\n",
       "<table border=\"1\" class=\"dataframe\">\n",
       "  <thead>\n",
       "    <tr style=\"text-align: right;\">\n",
       "      <th></th>\n",
       "      <th>allegiance</th>\n",
       "      <th>allegiance_id</th>\n",
       "      <th>controlling_minor_faction</th>\n",
       "      <th>controlling_minor_faction_id</th>\n",
       "      <th>edsm_id</th>\n",
       "      <th>government</th>\n",
       "      <th>government_id</th>\n",
       "      <th>id</th>\n",
       "      <th>is_populated</th>\n",
       "      <th>minor_faction_presences</th>\n",
       "      <th>name</th>\n",
       "      <th>needs_permit</th>\n",
       "      <th>population</th>\n",
       "      <th>power</th>\n",
       "      <th>power_state</th>\n",
       "      <th>power_state_id</th>\n",
       "      <th>primary_economy</th>\n",
       "      <th>primary_economy_id</th>\n",
       "      <th>reserve_type</th>\n",
       "      <th>reserve_type_id</th>\n",
       "      <th>security</th>\n",
       "      <th>security_id</th>\n",
       "      <th>simbad_ref</th>\n",
       "      <th>state</th>\n",
       "      <th>state_id</th>\n",
       "      <th>updated_at</th>\n",
       "      <th>x</th>\n",
       "      <th>y</th>\n",
       "      <th>z</th>\n",
       "    </tr>\n",
       "  </thead>\n",
       "  <tbody>\n",
       "    <tr>\n",
       "      <th>345</th>\n",
       "      <td>Federation</td>\n",
       "      <td>3.0</td>\n",
       "      <td>Abukunin Silver Fortune Ind</td>\n",
       "      <td>13925.0</td>\n",
       "      <td>15400.0</td>\n",
       "      <td>Corporate</td>\n",
       "      <td>64.0</td>\n",
       "      <td>396</td>\n",
       "      <td>True</td>\n",
       "      <td>[{'state': None, 'minor_faction_id': 10533, 'i...</td>\n",
       "      <td>Abukunin</td>\n",
       "      <td>False</td>\n",
       "      <td>944577389.0</td>\n",
       "      <td>Zachary Hudson</td>\n",
       "      <td>Exploited</td>\n",
       "      <td>None</td>\n",
       "      <td>Agriculture</td>\n",
       "      <td>1.0</td>\n",
       "      <td>None</td>\n",
       "      <td>NaN</td>\n",
       "      <td>Medium</td>\n",
       "      <td>32.0</td>\n",
       "      <td></td>\n",
       "      <td>None</td>\n",
       "      <td>80.0</td>\n",
       "      <td>1479385273</td>\n",
       "      <td>-69.3125</td>\n",
       "      <td>-7.4375</td>\n",
       "      <td>61.9375</td>\n",
       "    </tr>\n",
       "  </tbody>\n",
       "</table>\n",
       "</div>"
      ],
      "text/plain": [
       "     allegiance  allegiance_id    controlling_minor_faction  \\\n",
       "345  Federation            3.0  Abukunin Silver Fortune Ind   \n",
       "\n",
       "     controlling_minor_faction_id  edsm_id government  government_id   id  \\\n",
       "345                       13925.0  15400.0  Corporate           64.0  396   \n",
       "\n",
       "    is_populated                            minor_faction_presences      name  \\\n",
       "345         True  [{'state': None, 'minor_faction_id': 10533, 'i...  Abukunin   \n",
       "\n",
       "    needs_permit   population           power power_state power_state_id  \\\n",
       "345        False  944577389.0  Zachary Hudson   Exploited           None   \n",
       "\n",
       "    primary_economy  primary_economy_id reserve_type  reserve_type_id  \\\n",
       "345     Agriculture                 1.0         None              NaN   \n",
       "\n",
       "    security  security_id simbad_ref state  state_id  updated_at        x  \\\n",
       "345   Medium         32.0             None      80.0  1479385273 -69.3125   \n",
       "\n",
       "          y        z  \n",
       "345 -7.4375  61.9375  "
      ]
     },
     "execution_count": 22,
     "metadata": {},
     "output_type": "execute_result"
    }
   ],
   "source": [
    "system_data.query(\"id == 396\")"
   ]
  },
  {
   "cell_type": "code",
   "execution_count": 29,
   "metadata": {
    "collapsed": false,
    "scrolled": true
   },
   "outputs": [
    {
     "data": {
      "text/html": [
       "<div>\n",
       "<table border=\"1\" class=\"dataframe\">\n",
       "  <thead>\n",
       "    <tr style=\"text-align: right;\">\n",
       "      <th></th>\n",
       "      <th>buy_price</th>\n",
       "      <th>collected_at</th>\n",
       "      <th>commodity_id</th>\n",
       "      <th>demand</th>\n",
       "      <th>id</th>\n",
       "      <th>sell_price</th>\n",
       "      <th>station_id</th>\n",
       "      <th>supply</th>\n",
       "    </tr>\n",
       "  </thead>\n",
       "  <tbody>\n",
       "    <tr>\n",
       "      <th>0</th>\n",
       "      <td>0</td>\n",
       "      <td>1480947768</td>\n",
       "      <td>5</td>\n",
       "      <td>3369</td>\n",
       "      <td>1</td>\n",
       "      <td>526</td>\n",
       "      <td>1</td>\n",
       "      <td>0</td>\n",
       "    </tr>\n",
       "  </tbody>\n",
       "</table>\n",
       "</div>"
      ],
      "text/plain": [
       "   buy_price  collected_at  commodity_id  demand  id  sell_price  station_id  \\\n",
       "0          0    1480947768             5    3369   1         526           1   \n",
       "\n",
       "   supply  \n",
       "0       0  "
      ]
     },
     "execution_count": 29,
     "metadata": {},
     "output_type": "execute_result"
    }
   ],
   "source": [
    "price_data.head(1)"
   ]
  },
  {
   "cell_type": "code",
   "execution_count": 32,
   "metadata": {
    "collapsed": false
   },
   "outputs": [
    {
     "data": {
      "text/html": [
       "<div>\n",
       "<table border=\"1\" class=\"dataframe\">\n",
       "  <thead>\n",
       "    <tr style=\"text-align: right;\">\n",
       "      <th></th>\n",
       "      <th>average_price</th>\n",
       "      <th>category</th>\n",
       "      <th>category_id</th>\n",
       "      <th>commodity_id</th>\n",
       "      <th>is_rare</th>\n",
       "      <th>name</th>\n",
       "    </tr>\n",
       "  </thead>\n",
       "  <tbody>\n",
       "    <tr>\n",
       "      <th>0</th>\n",
       "      <td>261</td>\n",
       "      <td>Chemicals</td>\n",
       "      <td>1</td>\n",
       "      <td>1</td>\n",
       "      <td>0</td>\n",
       "      <td>Explosives</td>\n",
       "    </tr>\n",
       "  </tbody>\n",
       "</table>\n",
       "</div>"
      ],
      "text/plain": [
       "   average_price   category  category_id  commodity_id  is_rare        name\n",
       "0            261  Chemicals            1             1        0  Explosives"
      ]
     },
     "execution_count": 32,
     "metadata": {},
     "output_type": "execute_result"
    }
   ],
   "source": [
    "commodity_data.head(1)"
   ]
  },
  {
   "cell_type": "code",
   "execution_count": 26,
   "metadata": {
    "collapsed": false
   },
   "outputs": [
    {
     "name": "stdout",
     "output_type": "stream",
     "text": [
      "63440\n",
      "19989\n",
      "2692497\n"
     ]
    }
   ],
   "source": [
    "print(len(station_data))\n",
    "print(len(system_data))\n",
    "print(len(price_data))"
   ]
  },
  {
   "cell_type": "code",
   "execution_count": 27,
   "metadata": {
    "collapsed": false,
    "scrolled": true
   },
   "outputs": [
    {
     "data": {
      "text/html": [
       "<div>\n",
       "<table border=\"1\" class=\"dataframe\">\n",
       "  <thead>\n",
       "    <tr style=\"text-align: right;\">\n",
       "      <th></th>\n",
       "      <th>allegiance</th>\n",
       "      <th>allegiance_id</th>\n",
       "      <th>body_id</th>\n",
       "      <th>controlling_minor_faction_id</th>\n",
       "      <th>distance_to_star</th>\n",
       "      <th>economies</th>\n",
       "      <th>export_commodities</th>\n",
       "      <th>government</th>\n",
       "      <th>government_id</th>\n",
       "      <th>has_blackmarket</th>\n",
       "      <th>has_commodities</th>\n",
       "      <th>has_docking</th>\n",
       "      <th>has_market</th>\n",
       "      <th>has_outfitting</th>\n",
       "      <th>has_rearm</th>\n",
       "      <th>has_refuel</th>\n",
       "      <th>has_repair</th>\n",
       "      <th>has_shipyard</th>\n",
       "      <th>id</th>\n",
       "      <th>import_commodities</th>\n",
       "      <th>is_planetary</th>\n",
       "      <th>market_updated_at</th>\n",
       "      <th>max_landing_pad_size</th>\n",
       "      <th>name</th>\n",
       "      <th>outfitting_updated_at</th>\n",
       "      <th>prohibited_commodities</th>\n",
       "      <th>selling_modules</th>\n",
       "      <th>selling_ships</th>\n",
       "      <th>settlement_security</th>\n",
       "      <th>settlement_security_id</th>\n",
       "      <th>settlement_size</th>\n",
       "      <th>settlement_size_id</th>\n",
       "      <th>shipyard_updated_at</th>\n",
       "      <th>state</th>\n",
       "      <th>state_id</th>\n",
       "      <th>system_id</th>\n",
       "      <th>type</th>\n",
       "      <th>type_id</th>\n",
       "      <th>updated_at</th>\n",
       "    </tr>\n",
       "  </thead>\n",
       "  <tbody>\n",
       "    <tr>\n",
       "      <th>50000</th>\n",
       "      <td>Federation</td>\n",
       "      <td>3.0</td>\n",
       "      <td>NaN</td>\n",
       "      <td>13066.0</td>\n",
       "      <td>16000.0</td>\n",
       "      <td>[Tourism]</td>\n",
       "      <td>[Hydrogen Fuel, Biowaste]</td>\n",
       "      <td>Corporate</td>\n",
       "      <td>64.0</td>\n",
       "      <td>False</td>\n",
       "      <td>True</td>\n",
       "      <td>True</td>\n",
       "      <td>True</td>\n",
       "      <td>True</td>\n",
       "      <td>True</td>\n",
       "      <td>True</td>\n",
       "      <td>True</td>\n",
       "      <td>True</td>\n",
       "      <td>1</td>\n",
       "      <td>[Beer, Silver]</td>\n",
       "      <td>False</td>\n",
       "      <td>1.480948e+09</td>\n",
       "      <td>L</td>\n",
       "      <td>Bain Colony</td>\n",
       "      <td>1.480948e+09</td>\n",
       "      <td>[Narcotics, Tobacco]</td>\n",
       "      <td>[738, 739, 740, 741, 742, 1085, 1191, 1207, 12...</td>\n",
       "      <td>[Sidewinder Mk. I, Asp Scout]</td>\n",
       "      <td>None</td>\n",
       "      <td>NaN</td>\n",
       "      <td>None</td>\n",
       "      <td>NaN</td>\n",
       "      <td>1.480948e+09</td>\n",
       "      <td>Boom</td>\n",
       "      <td>16.0</td>\n",
       "      <td>18370</td>\n",
       "      <td>Ocellus Starport</td>\n",
       "      <td>7.0</td>\n",
       "      <td>1481139396</td>\n",
       "    </tr>\n",
       "  </tbody>\n",
       "</table>\n",
       "</div>"
      ],
      "text/plain": [
       "       allegiance  allegiance_id  body_id  controlling_minor_faction_id  \\\n",
       "50000  Federation            3.0      NaN                       13066.0   \n",
       "\n",
       "       distance_to_star  economies         export_commodities government  \\\n",
       "50000           16000.0  [Tourism]  [Hydrogen Fuel, Biowaste]  Corporate   \n",
       "\n",
       "       government_id has_blackmarket has_commodities has_docking has_market  \\\n",
       "50000           64.0           False            True        True       True   \n",
       "\n",
       "      has_outfitting has_rearm has_refuel has_repair has_shipyard  id  \\\n",
       "50000           True      True       True       True         True   1   \n",
       "\n",
       "      import_commodities is_planetary  market_updated_at max_landing_pad_size  \\\n",
       "50000     [Beer, Silver]        False       1.480948e+09                    L   \n",
       "\n",
       "              name  outfitting_updated_at prohibited_commodities  \\\n",
       "50000  Bain Colony           1.480948e+09   [Narcotics, Tobacco]   \n",
       "\n",
       "                                         selling_modules  \\\n",
       "50000  [738, 739, 740, 741, 742, 1085, 1191, 1207, 12...   \n",
       "\n",
       "                       selling_ships settlement_security  \\\n",
       "50000  [Sidewinder Mk. I, Asp Scout]                None   \n",
       "\n",
       "       settlement_security_id settlement_size  settlement_size_id  \\\n",
       "50000                     NaN            None                 NaN   \n",
       "\n",
       "       shipyard_updated_at state  state_id  system_id              type  \\\n",
       "50000         1.480948e+09  Boom      16.0      18370  Ocellus Starport   \n",
       "\n",
       "       type_id  updated_at  \n",
       "50000      7.0  1481139396  "
      ]
     },
     "execution_count": 27,
     "metadata": {},
     "output_type": "execute_result"
    }
   ],
   "source": [
    "station_data.query(\"id == 1\")"
   ]
  },
  {
   "cell_type": "markdown",
   "metadata": {},
   "source": [
    "#### Analysis\n",
    "\n",
    "Now that we have some functional datasets to play with, it's time to actually begin work on analysing it. This is where the filtering of systems comes in--without that, doing any analysis of the network of systems would be difficult. Given that I'm insufficiently familiar with the machine learning techniques that could maybe make this easier, I'm going to have to brute force it, and that means I very definitely need to pare down my datasets.\n",
    "\n",
    "To filter the data, I'm going to start with the systems, and filter on the basis of their distance from a designated origin system. I could select this arbitrarily, but for the sake of convenience, I'm going to select the Eravate System, which is where myself and all my friends who played started the game. With this, I'll then select all systems within an 40 unit radius of the system, in order to filter the total number of systems I'll be working with to around 500.\n",
    "\n",
    "Note: Eravate's coordinates in the cartesian system used by the game are (X = -42.4375, Y = -3.15625, Z = 59.65625)"
   ]
  },
  {
   "cell_type": "code",
   "execution_count": 43,
   "metadata": {
    "collapsed": false
   },
   "outputs": [],
   "source": [
    "system_data_filtered = system_data.query(\"x <= -2.4375 & x >= -82.4375 & y <= 37.15625 & y >= -43.15625 & \"\n",
    "                                         \"z <= 99.65625 & z >= 19.65625\")"
   ]
  },
  {
   "cell_type": "code",
   "execution_count": 44,
   "metadata": {
    "collapsed": false
   },
   "outputs": [
    {
     "data": {
      "text/plain": [
       "510"
      ]
     },
     "execution_count": 44,
     "metadata": {},
     "output_type": "execute_result"
    }
   ],
   "source": [
    "len(system_data_filtered)"
   ]
  },
  {
   "cell_type": "code",
   "execution_count": 46,
   "metadata": {
    "collapsed": false
   },
   "outputs": [],
   "source": [
    "filt_system_id_list = list(system_data_filtered['id'])"
   ]
  },
  {
   "cell_type": "code",
   "execution_count": null,
   "metadata": {
    "collapsed": true
   },
   "outputs": [],
   "source": []
  }
 ],
 "metadata": {
  "kernelspec": {
   "display_name": "Python 3",
   "language": "python",
   "name": "python3"
  },
  "language_info": {
   "codemirror_mode": {
    "name": "ipython",
    "version": 3
   },
   "file_extension": ".py",
   "mimetype": "text/x-python",
   "name": "python",
   "nbconvert_exporter": "python",
   "pygments_lexer": "ipython3",
   "version": "3.5.1"
  }
 },
 "nbformat": 4,
 "nbformat_minor": 1
}
